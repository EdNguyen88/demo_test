{
 "cells": [
  {
   "cell_type": "markdown",
   "id": "47b055e9",
   "metadata": {},
   "source": [
    "<h1>My Jupyter Notebook on IBM Watson Studio<h1>"
   ]
  },
  {
   "cell_type": "markdown",
   "id": "c8a6ce27",
   "metadata": {},
   "source": [
    "<p><strong>My name is Tuan.</strong> \n",
    "    My desired occupation is data analyst.</p>"
   ]
  },
  {
   "cell_type": "markdown",
   "id": "0e30670c",
   "metadata": {},
   "source": [
    "<em>I am interested in data science because it is a new area in Vietnam. Many SMEs think data mining is only for big enterprises. I want to change that mind.</em>"
   ]
  },
  {
   "cell_type": "markdown",
   "id": "f4ec2e88",
   "metadata": {},
   "source": [
    "<h3>My code below will show the name of a delicious food in Vietnam.</h3>"
   ]
  },
  {
   "cell_type": "code",
   "execution_count": 5,
   "id": "aea105c6",
   "metadata": {},
   "outputs": [
    {
     "name": "stdout",
     "output_type": "stream",
     "text": [
      "Mỳ Quảng\n"
     ]
    }
   ],
   "source": [
    "print(\"Mỳ Quảng\")"
   ]
  },
  {
   "cell_type": "markdown",
   "id": "f8cea38a",
   "metadata": {},
   "source": [
    "> IBM Watson Studio is a great platform.\n",
    "* However I met some problems\n",
    "1. I cannot create an account.\n",
    "2. When I have created an account, I cannot add my payment method.\n",
    "~~So I make my jupyter notebook on Github ~~\n",
    "\n",
    "|Date           |Time      |Success| \n",
    "|---------------|----------|------ | \n",
    "|November05,2021|10.30pmIST|N      | \n",
    "|November06,2021|09.00amIST|N      |"
   ]
  }
 ],
 "metadata": {
  "kernelspec": {
   "display_name": "Python 3 (ipykernel)",
   "language": "python",
   "name": "python3"
  },
  "language_info": {
   "codemirror_mode": {
    "name": "ipython",
    "version": 3
   },
   "file_extension": ".py",
   "mimetype": "text/x-python",
   "name": "python",
   "nbconvert_exporter": "python",
   "pygments_lexer": "ipython3",
   "version": "3.9.5"
  }
 },
 "nbformat": 4,
 "nbformat_minor": 5
}
